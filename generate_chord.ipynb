{
 "cells": [
  {
   "cell_type": "code",
   "execution_count": 5,
   "metadata": {},
   "outputs": [],
   "source": [
    "import numpy as np\n",
    "from datetime import datetime\n",
    "\n",
    "from hparams import I, T, P, MIN_MIDI_PITCH, MAX_MIDI_PITCH\n",
    "from chords import get_chord_label\n",
    "\n",
    "\n",
    "# load training data\n",
    "data = np.load('Jsb16thSeparated.npz', encoding='bytes', allow_pickle=True)\n",
    "\n",
    "# data augmentation\n",
    "train_tracks = []\n",
    "for y in data['train']:\n",
    "  for i in range(-3, 4):\n",
    "    train_tracks.append(y + i)\n",
    "len_train = len(train_tracks)\n",
    "\n",
    "valid_tracks = []\n",
    "for y in data['valid']:\n",
    "  for i in range(-3, 4):\n",
    "    valid_tracks.append(y + i)\n",
    "len_valid = len(valid_tracks)\n",
    "\n",
    "test_tracks = []\n",
    "for y in data['test']:\n",
    "  for i in range(-3, 4):\n",
    "    valid_tracks.append(y + i)\n",
    "len_test = len(test_tracks)\n",
    "\n",
    "all_tracks = train_tracks + valid_tracks + test_tracks\n",
    "# construct training data\n",
    "\n",
    "train_tracks = []\n",
    "for track in all_tracks[:len_train]:\n",
    "  track = track.transpose()\n",
    "  cut = 0\n",
    "  while cut < track.shape[1] - T:\n",
    "    if (track[:, cut:cut + T] > 0).all():\n",
    "      train_tracks.append(track[:, cut:cut + T] - MIN_MIDI_PITCH)\n",
    "    cut += T\n",
    "\n",
    "valid_tracks = []\n",
    "for track in all_tracks[len_train:len_train + len_valid]:\n",
    "  track = track.transpose()\n",
    "  cut = 0\n",
    "  while cut < track.shape[1] - T:\n",
    "    if (track[:, cut:cut + T] > 0).all():\n",
    "      valid_tracks.append(track[:, cut:cut + T] - MIN_MIDI_PITCH)\n",
    "    cut += T\n",
    "\n",
    "test_tracks = []\n",
    "for track in all_tracks[len_train + len_valid:len_train + len_valid + len_test]:\n",
    "  track = track.transpose()\n",
    "  cut = 0\n",
    "  while cut < track.shape[1] - T:\n",
    "    if (track[:, cut:cut + T] > 0).all():\n",
    "      test_tracks.append(track[:, cut:cut + T] - MIN_MIDI_PITCH)\n",
    "    cut += T\n",
    "\n",
    "all_tracks = train_tracks + valid_tracks + test_tracks\n",
    "train_tracks = np.array(train_tracks).astype(int)\n",
    "valid_tracks = np.array(valid_tracks).astype(int)\n",
    "test_tracks = np.array(test_tracks).astype(int)\n",
    "all_tracks = np.array(all_tracks).astype(int)"
   ]
  },
  {
   "cell_type": "code",
   "execution_count": 6,
   "metadata": {},
   "outputs": [],
   "source": [
    "chord_set = set()\n",
    "for track in all_tracks:\n",
    "  fp = track[0, :]\n",
    "  chord = get_chord_label(fp)\n",
    "  for c in chord:\n",
    "    chord_set.add(c)\n",
    "chord_list = list(chord_set)\n",
    "# with open('./id2chord.txt', 'w') as f:\n",
    "#   for c in chord_list:\n",
    "#     f.write(c + '\\n')\n",
    "# f.close()"
   ]
  },
  {
   "cell_type": "code",
   "execution_count": 7,
   "metadata": {},
   "outputs": [
    {
     "data": {
      "text/plain": [
       "614"
      ]
     },
     "execution_count": 7,
     "metadata": {},
     "output_type": "execute_result"
    }
   ],
   "source": [
    "len(chord_list)"
   ]
  }
 ],
 "metadata": {
  "kernelspec": {
   "display_name": "Python 3.10.6 64-bit",
   "language": "python",
   "name": "python3"
  },
  "language_info": {
   "codemirror_mode": {
    "name": "ipython",
    "version": 3
   },
   "file_extension": ".py",
   "mimetype": "text/x-python",
   "name": "python",
   "nbconvert_exporter": "python",
   "pygments_lexer": "ipython3",
   "version": "3.10.6"
  },
  "orig_nbformat": 4,
  "vscode": {
   "interpreter": {
    "hash": "b0fa6594d8f4cbf19f97940f81e996739fb7646882a419484c72d19e05852a7e"
   }
  }
 },
 "nbformat": 4,
 "nbformat_minor": 2
}
